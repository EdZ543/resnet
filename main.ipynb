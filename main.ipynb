{
 "cells": [
  {
   "cell_type": "code",
   "execution_count": 5,
   "metadata": {},
   "outputs": [],
   "source": [
    "import torch.nn as nn\n",
    "import torch.nn.functional as F\n",
    "from torch.utils.data import DataLoader\n",
    "from torchvision import datasets, transforms"
   ]
  },
  {
   "cell_type": "code",
   "execution_count": 9,
   "metadata": {},
   "outputs": [],
   "source": [
    "transform = transforms.Compose(\n",
    "    [\n",
    "        transforms.ToTensor(),\n",
    "        # Paper uses per-pixel mean subtraction\n",
    "        # I use PyTorch's normalization\n",
    "        transforms.Normalize((0.5, 0.5, 0.5), (0.5, 0.5, 0.5)),\n",
    "        transforms.RandomCrop(32, padding=4),\n",
    "    ]\n",
    ")"
   ]
  },
  {
   "cell_type": "code",
   "execution_count": 10,
   "metadata": {},
   "outputs": [],
   "source": [
    "def get_data_loaders(batch_size):\n",
    "    \"\"\"Get train and test data loaders for CIFAR-10 dataset.\"\"\"\n",
    "\n",
    "    # Get data\n",
    "    training_data = datasets.CIFAR10(\n",
    "        root=\"data\", train=True, download=True, transform=transform\n",
    "    )\n",
    "\n",
    "    test_data = datasets.CIFAR10(\n",
    "        root=\"data\", train=False, download=True, transform=transform\n",
    "    )\n",
    "\n",
    "    # Create data loaders\n",
    "    train_dataloader = DataLoader(training_data, batch_size=batch_size)\n",
    "    test_dataloader = DataLoader(test_data, batch_size=batch_size)\n",
    "\n",
    "    return train_dataloader, test_dataloader\n"
   ]
  },
  {
   "cell_type": "code",
   "execution_count": 11,
   "metadata": {},
   "outputs": [],
   "source": [
    "class ResidualBlock(nn.Module):\n",
    "    \"\"\"\n",
    "    Residual block with 2 convolutions and a skip connection,\n",
    "    as described in Figure 2 of the paper\n",
    "    \"\"\"\n",
    "\n",
    "    def __init__(self, feature_map_size, num_filters, filter_size, subsample=False):\n",
    "        super().__init__()\n",
    "        self.subsample = subsample\n",
    "\n",
    "        in_channels = feature_map_size * 2 if subsample else feature_map_size\n",
    "        stride = 2 if subsample else 1\n",
    "        padding = filter_size // 2\n",
    "\n",
    "        self.conv1 = nn.Conv2d(in_channels, num_filters, filter_size, stride, padding)\n",
    "        self.conv2 = nn.Conv2d(num_filters, num_filters, filter_size, stride, padding)\n",
    "        # The paper uses option A for the shortcut connection, I use option B\n",
    "        self.projection_shortcut = nn.Conv2d(in_channels, num_filters, 1, 2, 0)\n",
    "\n",
    "    def forward(self, x):\n",
    "        original_x = x\n",
    "        x = self.conv1(x)\n",
    "        x = F.relu(x)\n",
    "        x = self.conv2(x)\n",
    "\n",
    "        # Apply projection shortcut if input and output dimensions don't match\n",
    "        if self.subsample:\n",
    "            original_x = self.projection_shortcut(original_x)\n",
    "\n",
    "        # Residual connection\n",
    "        x += original_x\n",
    "\n",
    "        x = F.relu(x)"
   ]
  },
  {
   "cell_type": "code",
   "execution_count": 8,
   "metadata": {},
   "outputs": [],
   "source": [
    "class ResNet(nn.Module):\n",
    "    def __init__(self, n):\n",
    "        super().__init__()\n",
    "\n",
    "        self.conv1 = nn.Conv2d(3, 16, 3, 1, 1)\n",
    "\n",
    "        # Stack of residual blocks with map size 32 and 16 filters\n",
    "        self.stack1 = nn.Sequential(*[ResidualBlock(32, 16, 3) for _ in range(n)])\n",
    "\n",
    "        # Stack of residual blocks with map size 16 and 32 filters\n",
    "        self.stack2 = nn.Sequential(\n",
    "            ResidualBlock(16, 32, 3, subsample=True),\n",
    "            *[ResidualBlock(16, 32, 3) for _ in range(n - 1)]\n",
    "        )\n",
    "\n",
    "        # Stack of residual blocks with map size 64 and 8 filters\n",
    "        self.stack3 = nn.Sequential(\n",
    "            ResidualBlock(8, 64, 3, subsample=True),\n",
    "            *[ResidualBlock(8, 64, 3) for _ in range(n - 1)]\n",
    "        )\n",
    "\n",
    "        self.global_avg_pool = nn.AvgPool2d(8)\n",
    "        self.fully_connected = nn.Linear(64, 10)\n",
    "\n",
    "    def forward(self, x):\n",
    "        x = self.conv1(x)\n",
    "        x = F.relu(x)\n",
    "        x = self.stack1(x)\n",
    "        x = self.stack2(x)\n",
    "        x = self.stack3(x)\n",
    "        x = self.global_avg_pool(x) # Size is now (batch_size, 64, 1, 1)\n",
    "        x = x.view(-1, 64)  # Size is now (batch_size, 64)\n",
    "        x = self.fully_connected(x) # For each sample, takes in 64 inputs (average of each feature map)\n",
    "        return x"
   ]
  }
 ],
 "metadata": {
  "kernelspec": {
   "display_name": "base",
   "language": "python",
   "name": "python3"
  },
  "language_info": {
   "codemirror_mode": {
    "name": "ipython",
    "version": 3
   },
   "file_extension": ".py",
   "mimetype": "text/x-python",
   "name": "python",
   "nbconvert_exporter": "python",
   "pygments_lexer": "ipython3",
   "version": "3.10.13"
  }
 },
 "nbformat": 4,
 "nbformat_minor": 2
}
